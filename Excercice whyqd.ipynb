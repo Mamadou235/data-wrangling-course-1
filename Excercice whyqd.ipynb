{
 "cells": [
  {
   "cell_type": "code",
   "execution_count": 12,
   "metadata": {},
   "outputs": [],
   "source": [
    "import whyqd as _w\n",
    "schema = _w.Schema()"
   ]
  },
  {
   "cell_type": "code",
   "execution_count": 5,
   "metadata": {},
   "outputs": [],
   "source": [
    "details = {\n",
    "    \"name\":\"HDR_2007-2008_Kablam_10\",\n",
    "    \"title\":\"NIVEAU_ECONOMIQUE_PAYS.csv\",\n",
    "    \"description\":\"Livre\"\n",
    "    \n",
    "}\n",
    "schema = _w.Schema()\n",
    "schema.set_details(**details)"
   ]
  },
  {
   "cell_type": "code",
   "execution_count": 6,
   "metadata": {},
   "outputs": [],
   "source": [
    "fields=[   \n",
    "        {\n",
    "            \"name\":\"HDI Category\",\n",
    "            \"title\":\"HDI Category\",\n",
    "            \"type\":\"string\",\n",
    "            \"description\":\"Human Development Index Category derived from the HDI Rank\",\n",
    "            \"constraints\":{\n",
    "                \"required\": True,\n",
    "                \"category\":[{\"name\":\"HIGH\"},{\"name\":\"LOW\"},{\"name\":\"MEDIUM\"}]\n",
    "            }\n",
    "           \n",
    "        },\n",
    "        {\n",
    "            \"name\":\"Country Name\",\n",
    "            \"title\":\"Country Name\",\n",
    "            \"type\":\"string\",\n",
    "            \"description\":\"Official country names\",\n",
    "            \"constraints\": {\n",
    "                \"required\":True\n",
    "            }\n",
    "        },    \n",
    "        {\n",
    "            \"name\":\"Indicator Name\",\n",
    "            \"title\":\"Indicator Name\",\n",
    "            \"type\":\"string\",\n",
    "            \"description\":\"Indicator described in the data series\"\n",
    "        },\n",
    "        {\n",
    "            \"name\":\"Values\",\n",
    "            \"title\":\"Values\",\n",
    "            \"type\":\"number\",\n",
    "            \"description\":\"Value for the Year and Indicator Name\"\n",
    "\n",
    "        },\n",
    "        {\n",
    "        \"name\": \"Reference\",\n",
    "        \"title\": \"Reference\",\n",
    "        \"type\": \"string\",\n",
    "        \"description\": \"Reference to data source.\"\n",
    "        }\n",
    "    ]"
   ]
  },
  {
   "cell_type": "code",
   "execution_count": 7,
   "metadata": {},
   "outputs": [],
   "source": [
    "for field in fields:\n",
    "    schema.set_field(**field)"
   ]
  },
  {
   "cell_type": "code",
   "execution_count": 8,
   "metadata": {},
   "outputs": [
    {
     "data": {
      "text/plain": [
       "['string',\n",
       " 'number',\n",
       " 'integer',\n",
       " 'boolean',\n",
       " 'object',\n",
       " 'array',\n",
       " 'date',\n",
       " 'datetime',\n",
       " 'year']"
      ]
     },
     "execution_count": 8,
     "metadata": {},
     "output_type": "execute_result"
    }
   ],
   "source": [
    "schema.default_field_types"
   ]
  },
  {
   "cell_type": "code",
   "execution_count": 9,
   "metadata": {},
   "outputs": [
    {
     "data": {
      "text/plain": [
       "{'name': 'field_name',\n",
       " 'type': 'string',\n",
       " 'constraints': {'description': 'The following constraints are supported.',\n",
       "  'properties': {'required': {'type': 'boolean',\n",
       "    'description': 'Indicates whether a property must have a value for each instance.'},\n",
       "   'unique': {'type': 'boolean',\n",
       "    'description': 'When `true`, each value for the property `MUST` be unique.'},\n",
       "   'category': {'minItems': 1,\n",
       "    'description': 'A list of dictionary terms with `name` & (optional) `description`, and with minimum length `minItems`.'},\n",
       "   'minimum': {'type': 'integer',\n",
       "    'description': 'An integer that specifies the minimum length of a value.'},\n",
       "   'maximum': {'type': 'integer',\n",
       "    'description': 'An integer that specifies the maximum length of a value.'}}},\n",
       " 'title': 'A human-readable version of the field name',\n",
       " 'description': 'Any text-based string.',\n",
       " 'foreignKey': {'type': 'boolean',\n",
       "  'description': 'Set `foreignKey` `true` if the field is to be treated as an immutable value.'},\n",
       " 'required': ['name', 'type'],\n",
       " 'format': {'description': 'The format keyword options for `string` are `default`, `email`, `uri`, `binary`, and `uuid`.',\n",
       "  'category': ['default', 'email', 'uri', 'binary', 'uuid'],\n",
       "  'default': 'default'},\n",
       " 'missing': {'description': 'Default to be used for missing values.',\n",
       "  'default': ''}}"
      ]
     },
     "execution_count": 9,
     "metadata": {},
     "output_type": "execute_result"
    }
   ],
   "source": [
    "schema.default_field_settings('string')"
   ]
  },
  {
   "cell_type": "code",
   "execution_count": 10,
   "metadata": {},
   "outputs": [
    {
     "data": {
      "text/plain": [
       "{'name': 'country_name',\n",
       " 'type': 'string',\n",
       " 'constraints': {'required': True},\n",
       " 'title': 'Country Name',\n",
       " 'description': 'Official country names'}"
      ]
     },
     "execution_count": 10,
     "metadata": {},
     "output_type": "execute_result"
    }
   ],
   "source": [
    "schema.field(\"country_name\")"
   ]
  },
  {
   "cell_type": "code",
   "execution_count": 11,
   "metadata": {},
   "outputs": [],
   "source": [
    "import os"
   ]
  },
  {
   "cell_type": "code",
   "execution_count": 39,
   "metadata": {},
   "outputs": [
    {
     "data": {
      "text/plain": [
       "True"
      ]
     },
     "execution_count": 39,
     "metadata": {},
     "output_type": "execute_result"
    }
   ],
   "source": [
    "directory =  r\"C:\\Users\\Blanchard Kablam\\Documents\\Mon Dossier Formation Dcdj\\data-wrangling-and-validation-master\\data-wrangling-and-validation-master\\test\\Nouveau dossier\"\n",
    "# vous pouvez également spécifier un nom de fichier facultatif\n",
    "# si vous l'omettez, le nom du fichier sera par défaut le nom du schéma\n",
    "filename = \"my_schema.json\"\n",
    "# si le fichier existe déjà, vous devrez spécifier \"overwrite=True\" sinon vous obtiendrez une erreur\n",
    "schema.save(directory, filename=filename, overwrite=True)"
   ]
  },
  {
   "cell_type": "code",
   "execution_count": 40,
   "metadata": {},
   "outputs": [
    {
     "data": {
      "text/plain": [
       "[]"
      ]
     },
     "execution_count": 40,
     "metadata": {},
     "output_type": "execute_result"
    }
   ],
   "source": [
    "schema.all_field_names"
   ]
  },
  {
   "cell_type": "code",
   "execution_count": 36,
   "metadata": {},
   "outputs": [
    {
     "data": {
      "text/html": [
       "<style>pre { white-space: pre !important; }</style>"
      ],
      "text/plain": [
       "<IPython.core.display.HTML object>"
      ]
     },
     "metadata": {},
     "output_type": "display_data"
    }
   ],
   "source": [
    "### Les importations et paramètres suivants vous permettent d'obtenir un large éventail de résultats pour vos tableaux\n",
    "from IPython.core.display import HTML\n",
    "display(HTML(\"<style>pre { white-space: pre !important; }</style>\"))\n",
    "\n",
    "import numpy as np\n",
    "import whyqd as _w\n",
    "\n",
    "SCHEMA_SOURCE = \"my_schema.json\"\n",
    "DIRECTORY = os.getcwd()\n",
    "INPUT_DATA = [\n",
    "     \"HDR 2007-2008 Table 10.xlsx\"\n",
    "]\n",
    "#method = _w.Method(SCHEMA_SOURCE, directory=DIRECTORY, input_data=INPUT_DATA)"
   ]
  },
  {
   "cell_type": "code",
   "execution_count": null,
   "metadata": {},
   "outputs": [],
   "source": []
  },
  {
   "cell_type": "code",
   "execution_count": null,
   "metadata": {},
   "outputs": [],
   "source": [
    "method.default_morph_types"
   ]
  },
  {
   "cell_type": "code",
   "execution_count": null,
   "metadata": {},
   "outputs": [],
   "source": [
    "# A titre d'exemple :\n",
    "method.default_morph_settings(\"CATEGORISE\")"
   ]
  },
  {
   "cell_type": "code",
   "execution_count": null,
   "metadata": {},
   "outputs": [],
   "source": [
    "# Utilisez _id, ou une autre variable, puisque `id` est un terme protégé par Python\n",
    "_id = method.input_data[0][\"id\"]\n",
    "df = method.input_dataframe(_id)\n",
    "df.head(47)"
   ]
  },
  {
   "cell_type": "code",
   "execution_count": null,
   "metadata": {},
   "outputs": [],
   "source": [
    "method.reset_input_data_morph(_id)"
   ]
  },
  {
   "cell_type": "code",
   "execution_count": null,
   "metadata": {},
   "outputs": [],
   "source": [
    "\n",
    "method.add_input_data_morph(_id, [\"REBASE\", 11])"
   ]
  },
  {
   "cell_type": "code",
   "execution_count": null,
   "metadata": {},
   "outputs": [],
   "source": [
    "# On obtient la valeur du dernier élément de l'index, puis on ajoute 1 pour créer l'intervalle\n",
    "rows = [int(i) for i in np.arange(144, df.index[-1]+1)]\n",
    "method.add_input_data_morph(_id, [\"DELETE\", rows])"
   ]
  },
  {
   "cell_type": "code",
   "execution_count": null,
   "metadata": {},
   "outputs": [],
   "source": [
    "columns = [\n",
    "    \"HDI rank\",\n",
    "    \"Country\",\n",
    "    \"Human poverty index (HPI-1) - Rank\",\n",
    "    \"Reference 1\",\n",
    "    \"Human poverty index (HPI-1) - Value (%)\",\n",
    "    \"Probability at birth of not surviving to age 40 (% of cohort) 2000-05\",\n",
    "    \"Reference 2\",\n",
    "    \"Adult illiteracy rate (% aged 15 and older) 1995-2005\",\n",
    "    \"Reference 3\",\n",
    "    \"Population not using an improved water source (%) 2004\",\n",
    "    \"Reference 4\",\n",
    "    \"Children under weight for age (% under age 5) 1996-2005\",\n",
    "    \"Reference 5\",\n",
    "    \"Population below income poverty line (%) - $1 a day 1990-2005\",\n",
    "    \"Reference 6\",\n",
    "    \"Population below income poverty line (%) - $2 a day 1990-2005\",\n",
    "    \"Reference 7\",\n",
    "    \"Population below income poverty line (%) - National poverty line 1990-2004\",\n",
    "    \"Reference 8\",\n",
    "    \"HPI-1 rank minus income poverty rank\"\n",
    "]\n",
    "method.add_input_data_morph(_id, [\"RENAME\", columns])"
   ]
  },
  {
   "cell_type": "code",
   "execution_count": null,
   "metadata": {},
   "outputs": [],
   "source": [
    "df.head(77)"
   ]
  },
  {
   "cell_type": "code",
   "execution_count": null,
   "metadata": {},
   "outputs": [],
   "source": [
    "# Obtenir les indices des lignes de données catégorielles\n",
    "hdi_categories = [\"HIGH HUMAN DEVELOPMENT\", \"MEDIUM HUMAN DEVELOPMENT\", \"LOW HUMAN DEVELOPMENT\"]\n",
    "rows = df[df[\"HDI rank\"].isin(hdi_categories)].index\n",
    "method.add_input_data_morph(_id, [\"CATEGORISE\", rows, \"HDI category\"])"
   ]
  },
  {
   "cell_type": "code",
   "execution_count": null,
   "metadata": {},
   "outputs": [],
   "source": [
    "type(rows)"
   ]
  },
  {
   "cell_type": "code",
   "execution_count": null,
   "metadata": {},
   "outputs": [],
   "source": [
    "method.add_input_data_morph(_id, [\"CATEGORISE\", list(rows), \"HDI category\"])"
   ]
  },
  {
   "cell_type": "code",
   "execution_count": null,
   "metadata": {},
   "outputs": [],
   "source": [
    "df = method.input_dataframe(_id)\n",
    "df.head()"
   ]
  },
  {
   "cell_type": "code",
   "execution_count": null,
   "metadata": {},
   "outputs": [],
   "source": [
    "# Sélectionnez toutes les colonnes à \"melt\"\n",
    "columns = [\n",
    "    \"HDI rank\",\n",
    "    \"Human poverty index (HPI-1) - Rank\",\n",
    "    \"Human poverty index (HPI-1) - Value (%)\",\n",
    "    \"Probability at birth of not surviving to age 40 (% of cohort) 2000-05\",\n",
    "    \"Adult illiteracy rate (% aged 15 and older) 1995-2005\",\n",
    "    \"Population not using an improved water source (%) 2004\",\n",
    "    \"Children under weight for age (% under age 5) 1996-2005\",\n",
    "    \"Population below income poverty line (%) - $1 a day 1990-2005\",\n",
    "    \"Population below income poverty line (%) - $2 a day 1990-2005\",\n",
    "    \"Population below income poverty line (%) - National poverty line 1990-2004\",\n",
    "    \"HPI-1 rank minus income poverty rank\"\n",
    "]\n",
    "method.add_input_data_morph(_id, [\"MELT\", columns, [\"Indicator Name\", \"Indicator Value\"]])"
   ]
  },
  {
   "cell_type": "code",
   "execution_count": null,
   "metadata": {},
   "outputs": [],
   "source": [
    "columns = [\n",
    "    \"Reference 1\",\n",
    "    \"Reference 2\",\n",
    "    \"Reference 3\",\n",
    "    \"Reference 4\",\n",
    "    \"Reference 5\",\n",
    "    \"Reference 6\",\n",
    "    \"Reference 7\",\n",
    "    \"Reference 8\",\n",
    "]\n",
    "method.add_input_data_morph(_id, [\"MELT\", columns, [\"Reference Name\", \"Reference\"]])"
   ]
  },
  {
   "cell_type": "code",
   "execution_count": null,
   "metadata": {},
   "outputs": [],
   "source": [
    "method.add_input_data_morph(_id, [\"DEBLANK\"])"
   ]
  },
  {
   "cell_type": "code",
   "execution_count": null,
   "metadata": {},
   "outputs": [],
   "source": [
    "df = method.input_dataframe(_id)\n",
    "df.head()"
   ]
  },
  {
   "cell_type": "code",
   "execution_count": null,
   "metadata": {},
   "outputs": [],
   "source": [
    "print(method.help(\"merge\"))"
   ]
  },
  {
   "cell_type": "code",
   "execution_count": null,
   "metadata": {},
   "outputs": [],
   "source": [
    "%time method.merge(overwrite_working=True)"
   ]
  },
  {
   "cell_type": "code",
   "execution_count": null,
   "metadata": {},
   "outputs": [],
   "source": [
    "print(method.help(\"structure\"))"
   ]
  },
  {
   "cell_type": "code",
   "execution_count": null,
   "metadata": {},
   "outputs": [],
   "source": [
    "structure = {\n",
    "    \"country_name\": [\"RENAME\", \"Country\"],\n",
    "    \"hdi_category\": [\"RENAME\", \"HDI category\"],\n",
    "    \"indicator_name\": [\"RENAME\", \"Indicator Name\"],\n",
    "    \"reference\": [\"RENAME\", \"Reference\"],\n",
    "    \"values\": [\"RENAME\", \"Indicator Value\"],\n",
    "}\n",
    "# Notez le \"**\" au début du nom du paramètre\n",
    "# Ceci \"dépaquette\"  le dictionnaire de sorte que tous les termes soient visibles pour la fonction\n",
    "method.set_structure(**structure)"
   ]
  },
  {
   "cell_type": "code",
   "execution_count": null,
   "metadata": {},
   "outputs": [],
   "source": [
    "method.transform(overwrite_output=True)\n",
    "FILENAME = \"hdi_report_exercise\"\n",
    "method.save(directory, filename=FILENAME, overwrite=True)"
   ]
  },
  {
   "cell_type": "code",
   "execution_count": null,
   "metadata": {},
   "outputs": [],
   "source": [
    "method.input_data_morphs(_id)"
   ]
  },
  {
   "cell_type": "code",
   "execution_count": null,
   "metadata": {},
   "outputs": [],
   "source": [
    "%time method.validates"
   ]
  },
  {
   "cell_type": "code",
   "execution_count": null,
   "metadata": {},
   "outputs": [],
   "source": [
    "import pandas as pd\n",
    "import numpy as np\n",
    "\n",
    "source = \"output_9c706988-da6f-44c8-9b91-ab6133f4425c.csv\"\n",
    "\n",
    "df = pd.read_csv(source)\n",
    "df.head()"
   ]
  },
  {
   "cell_type": "code",
   "execution_count": null,
   "metadata": {},
   "outputs": [],
   "source": [
    "df.info()"
   ]
  },
  {
   "cell_type": "code",
   "execution_count": null,
   "metadata": {},
   "outputs": [],
   "source": [
    "from pandas_schema import Column, Schema\n",
    "from pandas_schema.validation import LeadingWhitespaceValidation, TrailingWhitespaceValidation, IsDtypeValidation, InListValidation\n",
    "import numpy as np"
   ]
  },
  {
   "cell_type": "code",
   "execution_count": null,
   "metadata": {},
   "outputs": [],
   "source": [
    "# Nous ne testerons que ces colonnes\n",
    "columns = [\"country_name\", \"hdi_category\", \"values\"]\n",
    "# Et ces catégories\n",
    "hdi_categories = [\"HIGH HUMAN DEVELOPMENT\", \"MEDIUM HUMAN DEVELOPMENT\", \"LOW HUMAN DEVELOPMENT\"]"
   ]
  },
  {
   "cell_type": "code",
   "execution_count": null,
   "metadata": {},
   "outputs": [],
   "source": [
    "schema = Schema([\n",
    "    Column(\"country_name\", [LeadingWhitespaceValidation(), TrailingWhitespaceValidation()]),\n",
    "    Column(\"hdi_category\", [InListValidation(hdi_categories)]),\n",
    "    Column(\"values\", [IsDtypeValidation(np.dtype(float)), IsDtypeValidation(np.dtype(int))])\n",
    "])"
   ]
  },
  {
   "cell_type": "code",
   "execution_count": null,
   "metadata": {},
   "outputs": [],
   "source": [
    "errors = schema.validate(df[columns])\n",
    "\n",
    "print(F\"Nombre d'erreurs :  {len(errors)}\")\n",
    "# Juste les 10 premiers\n",
    "for error in errors[:10]:\n",
    "    print(error)"
   ]
  }
 ],
 "metadata": {
  "kernelspec": {
   "display_name": "Python 3",
   "language": "python",
   "name": "python3"
  },
  "language_info": {
   "codemirror_mode": {
    "name": "ipython",
    "version": 3
   },
   "file_extension": ".py",
   "mimetype": "text/x-python",
   "name": "python",
   "nbconvert_exporter": "python",
   "pygments_lexer": "ipython3",
   "version": "3.7.7"
  }
 },
 "nbformat": 4,
 "nbformat_minor": 4
}
