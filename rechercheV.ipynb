{
 "cells": [
  {
   "cell_type": "code",
   "execution_count": 1,
   "metadata": {},
   "outputs": [],
   "source": [
    "#Importation des librairy pandas et numpy\n",
    "import pandas as pd\n",
    "import numpy as np"
   ]
  },
  {
   "cell_type": "code",
   "execution_count": 2,
   "metadata": {},
   "outputs": [],
   "source": [
    "#Chemin absolu vers le dossier de traitement de fichier"
   ]
  },
  {
   "cell_type": "code",
   "execution_count": 3,
   "metadata": {},
   "outputs": [
    {
     "name": "stdout",
     "output_type": "stream",
     "text": [
      "F:\\My_Everything\\Documents\\Mon_Dossier_stage_HB_14_01_20\\DCDJ\n"
     ]
    }
   ],
   "source": [
    "cd F:\\\\My_Everything\\\\Documents\\\\Mon_Dossier_stage_HB_14_01_20\\\\DCDJ"
   ]
  },
  {
   "cell_type": "code",
   "execution_count": 4,
   "metadata": {},
   "outputs": [],
   "source": [
    "# Chargement des fichiers\n",
    "Feuille1 = 'A.xlsx'\n",
    "Feuille2 = 'B.xlsx'\n",
    "Resultat_traitement = 'C.xlsx'\n",
    "df_1 = pd.read_excel(Feuille1)\n",
    "df_2 = pd.read_excel(Feuille2)"
   ]
  },
  {
   "cell_type": "code",
   "execution_count": 5,
   "metadata": {},
   "outputs": [
    {
     "data": {
      "text/html": [
       "<div>\n",
       "<style scoped>\n",
       "    .dataframe tbody tr th:only-of-type {\n",
       "        vertical-align: middle;\n",
       "    }\n",
       "\n",
       "    .dataframe tbody tr th {\n",
       "        vertical-align: top;\n",
       "    }\n",
       "\n",
       "    .dataframe thead th {\n",
       "        text-align: right;\n",
       "    }\n",
       "</style>\n",
       "<table border=\"1\" class=\"dataframe\">\n",
       "  <thead>\n",
       "    <tr style=\"text-align: right;\">\n",
       "      <th></th>\n",
       "      <th>Code</th>\n",
       "      <th>TelPers</th>\n",
       "    </tr>\n",
       "  </thead>\n",
       "  <tbody>\n",
       "    <tr>\n",
       "      <th>0</th>\n",
       "      <td>0064/AN/08/07134E</td>\n",
       "      <td>NaN</td>\n",
       "    </tr>\n",
       "    <tr>\n",
       "      <th>1</th>\n",
       "      <td>SOGB/01/07/00007</td>\n",
       "      <td>09997848</td>\n",
       "    </tr>\n",
       "    <tr>\n",
       "      <th>2</th>\n",
       "      <td>0747/AV/14/00045</td>\n",
       "      <td>45110655</td>\n",
       "    </tr>\n",
       "    <tr>\n",
       "      <th>3</th>\n",
       "      <td>0677/DA/11/00110</td>\n",
       "      <td>NaN</td>\n",
       "    </tr>\n",
       "    <tr>\n",
       "      <th>4</th>\n",
       "      <td>0584/02/10/00011</td>\n",
       "      <td>NaN</td>\n",
       "    </tr>\n",
       "  </tbody>\n",
       "</table>\n",
       "</div>"
      ],
      "text/plain": [
       "                 Code   TelPers\n",
       "0   0064/AN/08/07134E       NaN\n",
       "1    SOGB/01/07/00007  09997848\n",
       "2    0747/AV/14/00045  45110655\n",
       "3    0677/DA/11/00110       NaN\n",
       "4    0584/02/10/00011       NaN"
      ]
     },
     "execution_count": 5,
     "metadata": {},
     "output_type": "execute_result"
    }
   ],
   "source": [
    "df_1.head()"
   ]
  },
  {
   "cell_type": "code",
   "execution_count": 6,
   "metadata": {},
   "outputs": [
    {
     "data": {
      "text/html": [
       "<div>\n",
       "<style scoped>\n",
       "    .dataframe tbody tr th:only-of-type {\n",
       "        vertical-align: middle;\n",
       "    }\n",
       "\n",
       "    .dataframe tbody tr th {\n",
       "        vertical-align: top;\n",
       "    }\n",
       "\n",
       "    .dataframe thead th {\n",
       "        text-align: right;\n",
       "    }\n",
       "</style>\n",
       "<table border=\"1\" class=\"dataframe\">\n",
       "  <thead>\n",
       "    <tr style=\"text-align: right;\">\n",
       "      <th></th>\n",
       "      <th>Code</th>\n",
       "      <th>NomPre</th>\n",
       "    </tr>\n",
       "  </thead>\n",
       "  <tbody>\n",
       "    <tr>\n",
       "      <th>0</th>\n",
       "      <td>NaN</td>\n",
       "      <td>BOUGOUMA N'DIAYE</td>\n",
       "    </tr>\n",
       "    <tr>\n",
       "      <th>1</th>\n",
       "      <td>SOGB/01/07/00007</td>\n",
       "      <td>MADINGAR CATHERINE</td>\n",
       "    </tr>\n",
       "    <tr>\n",
       "      <th>2</th>\n",
       "      <td>0747/AV/14/00045</td>\n",
       "      <td>DIARRA OUMOU</td>\n",
       "    </tr>\n",
       "    <tr>\n",
       "      <th>3</th>\n",
       "      <td>0677/DA/11/00110</td>\n",
       "      <td>KOUASSI PIERRE EDWIGE ADJOUA</td>\n",
       "    </tr>\n",
       "    <tr>\n",
       "      <th>4</th>\n",
       "      <td>0584/02/10/00011</td>\n",
       "      <td>KAMGOUTE DIATOUBA</td>\n",
       "    </tr>\n",
       "  </tbody>\n",
       "</table>\n",
       "</div>"
      ],
      "text/plain": [
       "               Code                        NomPre\n",
       "0               NaN             BOUGOUMA N'DIAYE \n",
       "1  SOGB/01/07/00007            MADINGAR CATHERINE\n",
       "2  0747/AV/14/00045                  DIARRA OUMOU\n",
       "3  0677/DA/11/00110  KOUASSI PIERRE EDWIGE ADJOUA\n",
       "4  0584/02/10/00011             KAMGOUTE DIATOUBA"
      ]
     },
     "execution_count": 6,
     "metadata": {},
     "output_type": "execute_result"
    }
   ],
   "source": [
    "df_2.head()"
   ]
  },
  {
   "cell_type": "code",
   "execution_count": 7,
   "metadata": {},
   "outputs": [
    {
     "name": "stdout",
     "output_type": "stream",
     "text": [
      "Index(['Code', 'TelPers'], dtype='object') Index(['Code', 'NomPre'], dtype='object')\n"
     ]
    }
   ],
   "source": [
    "# Affichons les columns des fichiers pour retrouver la clé de jointure. Ici c'est Code\n",
    "print(df_1.columns, df_2.columns)"
   ]
  },
  {
   "cell_type": "code",
   "execution_count": 8,
   "metadata": {},
   "outputs": [],
   "source": [
    "#Effectuons la jointure entre les 2 fichiers sur Code qui se trouve à gauche\n",
    "df_3 = pd.merge(df_1, df_2, on='Code', how='left') "
   ]
  },
  {
   "cell_type": "code",
   "execution_count": 9,
   "metadata": {},
   "outputs": [
    {
     "data": {
      "text/html": [
       "<div>\n",
       "<style scoped>\n",
       "    .dataframe tbody tr th:only-of-type {\n",
       "        vertical-align: middle;\n",
       "    }\n",
       "\n",
       "    .dataframe tbody tr th {\n",
       "        vertical-align: top;\n",
       "    }\n",
       "\n",
       "    .dataframe thead th {\n",
       "        text-align: right;\n",
       "    }\n",
       "</style>\n",
       "<table border=\"1\" class=\"dataframe\">\n",
       "  <thead>\n",
       "    <tr style=\"text-align: right;\">\n",
       "      <th></th>\n",
       "      <th>Code</th>\n",
       "      <th>TelPers</th>\n",
       "      <th>NomPre</th>\n",
       "    </tr>\n",
       "  </thead>\n",
       "  <tbody>\n",
       "    <tr>\n",
       "      <th>0</th>\n",
       "      <td>0064/AN/08/07134E</td>\n",
       "      <td>NaN</td>\n",
       "      <td>NaN</td>\n",
       "    </tr>\n",
       "    <tr>\n",
       "      <th>1</th>\n",
       "      <td>SOGB/01/07/00007</td>\n",
       "      <td>09997848</td>\n",
       "      <td>MADINGAR CATHERINE</td>\n",
       "    </tr>\n",
       "    <tr>\n",
       "      <th>2</th>\n",
       "      <td>0747/AV/14/00045</td>\n",
       "      <td>45110655</td>\n",
       "      <td>DIARRA OUMOU</td>\n",
       "    </tr>\n",
       "    <tr>\n",
       "      <th>3</th>\n",
       "      <td>0677/DA/11/00110</td>\n",
       "      <td>NaN</td>\n",
       "      <td>KOUASSI PIERRE EDWIGE ADJOUA</td>\n",
       "    </tr>\n",
       "    <tr>\n",
       "      <th>4</th>\n",
       "      <td>0584/02/10/00011</td>\n",
       "      <td>NaN</td>\n",
       "      <td>KAMGOUTE DIATOUBA</td>\n",
       "    </tr>\n",
       "  </tbody>\n",
       "</table>\n",
       "</div>"
      ],
      "text/plain": [
       "                 Code   TelPers                        NomPre\n",
       "0   0064/AN/08/07134E       NaN                           NaN\n",
       "1    SOGB/01/07/00007  09997848            MADINGAR CATHERINE\n",
       "2    0747/AV/14/00045  45110655                  DIARRA OUMOU\n",
       "3    0677/DA/11/00110       NaN  KOUASSI PIERRE EDWIGE ADJOUA\n",
       "4    0584/02/10/00011       NaN             KAMGOUTE DIATOUBA"
      ]
     },
     "execution_count": 9,
     "metadata": {},
     "output_type": "execute_result"
    }
   ],
   "source": [
    "df_3.head()"
   ]
  },
  {
   "cell_type": "code",
   "execution_count": 10,
   "metadata": {},
   "outputs": [
    {
     "data": {
      "text/html": [
       "<div>\n",
       "<style scoped>\n",
       "    .dataframe tbody tr th:only-of-type {\n",
       "        vertical-align: middle;\n",
       "    }\n",
       "\n",
       "    .dataframe tbody tr th {\n",
       "        vertical-align: top;\n",
       "    }\n",
       "\n",
       "    .dataframe thead th {\n",
       "        text-align: right;\n",
       "    }\n",
       "</style>\n",
       "<table border=\"1\" class=\"dataframe\">\n",
       "  <thead>\n",
       "    <tr style=\"text-align: right;\">\n",
       "      <th></th>\n",
       "      <th>Code</th>\n",
       "      <th>TelPers</th>\n",
       "      <th>NomPre</th>\n",
       "    </tr>\n",
       "  </thead>\n",
       "  <tbody>\n",
       "    <tr>\n",
       "      <th>0</th>\n",
       "      <td>0064/AN/08/07134E</td>\n",
       "      <td>NaN</td>\n",
       "      <td>NaN</td>\n",
       "    </tr>\n",
       "    <tr>\n",
       "      <th>1</th>\n",
       "      <td>SOGB/01/07/00007</td>\n",
       "      <td>09997848</td>\n",
       "      <td>MADINGAR CATHERINE</td>\n",
       "    </tr>\n",
       "    <tr>\n",
       "      <th>2</th>\n",
       "      <td>0747/AV/14/00045</td>\n",
       "      <td>45110655</td>\n",
       "      <td>DIARRA OUMOU</td>\n",
       "    </tr>\n",
       "    <tr>\n",
       "      <th>3</th>\n",
       "      <td>0677/DA/11/00110</td>\n",
       "      <td>NaN</td>\n",
       "      <td>KOUASSI PIERRE EDWIGE ADJOUA</td>\n",
       "    </tr>\n",
       "    <tr>\n",
       "      <th>4</th>\n",
       "      <td>0584/02/10/00011</td>\n",
       "      <td>NaN</td>\n",
       "      <td>KAMGOUTE DIATOUBA</td>\n",
       "    </tr>\n",
       "  </tbody>\n",
       "</table>\n",
       "</div>"
      ],
      "text/plain": [
       "                 Code   TelPers                        NomPre\n",
       "0   0064/AN/08/07134E       NaN                           NaN\n",
       "1    SOGB/01/07/00007  09997848            MADINGAR CATHERINE\n",
       "2    0747/AV/14/00045  45110655                  DIARRA OUMOU\n",
       "3    0677/DA/11/00110       NaN  KOUASSI PIERRE EDWIGE ADJOUA\n",
       "4    0584/02/10/00011       NaN             KAMGOUTE DIATOUBA"
      ]
     },
     "execution_count": 10,
     "metadata": {},
     "output_type": "execute_result"
    }
   ],
   "source": [
    "#Remplaçons les NaN par du vide (les parties oû la jointure ne correspond pas)\n",
    "df_3.replace(np.NaN, '', regex=True)\n",
    "df_3.head()"
   ]
  },
  {
   "cell_type": "code",
   "execution_count": 11,
   "metadata": {},
   "outputs": [],
   "source": [
    "#Sauvegardons le resultat dans un fichier Excel\n",
    "df_3.to_excel(Resultat_traitement)"
   ]
  }
 ],
 "metadata": {
  "kernelspec": {
   "display_name": "Python 3",
   "language": "python",
   "name": "python3"
  },
  "language_info": {
   "codemirror_mode": {
    "name": "ipython",
    "version": 3
   },
   "file_extension": ".py",
   "mimetype": "text/x-python",
   "name": "python",
   "nbconvert_exporter": "python",
   "pygments_lexer": "ipython3",
   "version": "3.7.0"
  }
 },
 "nbformat": 4,
 "nbformat_minor": 2
}
