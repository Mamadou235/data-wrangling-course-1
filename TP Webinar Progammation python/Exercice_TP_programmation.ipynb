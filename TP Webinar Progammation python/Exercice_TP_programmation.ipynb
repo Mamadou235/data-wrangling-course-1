{
 "cells": [
  {
   "cell_type": "markdown",
   "metadata": {},
   "source": [
    "### Mon premier programme Python🤞😎🤷‍♂️"
   ]
  },
  {
   "cell_type": "markdown",
   "metadata": {},
   "source": [
    "- Question & Reponses https://stackoverflow.com/ \n",
    "- Maj + Entree  ; crtl+ / ; tab ; indentation \n"
   ]
  },
  {
   "cell_type": "code",
   "execution_count": 1,
   "metadata": {},
   "outputs": [],
   "source": [
    "#commentaire\n",
    "# sur\n",
    "# plusieurs\n",
    "# ligne"
   ]
  },
  {
   "cell_type": "code",
   "execution_count": 2,
   "metadata": {},
   "outputs": [
    {
     "name": "stdout",
     "output_type": "stream",
     "text": [
      "Comment vous appelle t-on ?\n",
      "Bonjour à toi\n"
     ]
    }
   ],
   "source": [
    "# Juste une brève vue sur le programme dans le cours, pas entrer dans les détails\n",
    "# Disons Bonjour à tous le Monde\n",
    "\n",
    "nom = input('Comment vous appelle t-on ?')\n",
    "if len(nom)>0:\n",
    "    print('Salut', nom, \"!!!\")\n",
    "else:\n",
    "    print(\"Bonjour à toi\")"
   ]
  },
  {
   "cell_type": "markdown",
   "metadata": {},
   "source": [
    "## Exercice TP_programmation🤔"
   ]
  },
  {
   "cell_type": "markdown",
   "metadata": {},
   "source": [
    "Supposons que chaque mois, vos parents vous donne 1 000 F CFA pour subvenir à vos besoins\n",
    "journaliers :\n",
    "- Ce montant ne vous est toutefois pas mis en mains propre chaque jour ;\n",
    "- Maman qui gère cet aspect des finances vous remets une portion chaque deux semaines ;\n",
    "- Depuis les vacances dernières, papa a refusé de vous donner de l'argent car il estime que\n",
    "vous êtes à la maison et que vous avez tout à votre disposition pendant cette période ;\n",
    "La première expérience a été trop dure pour vous et vous avez décidé de faire de l'épargne\n",
    "constante de 25% sur votre pécule pendant l'année scolaire ;\n",
    "- Ainsi chaque fois que vous recevez l'argent de maman, vous enlevez directement une part\n",
    "pour la période de vacances.\n",
    "Maintenant, faisons l'hypothèse suivantes : vous avez décidé de faire attention à vos finances à\n",
    "partir de janvier 2020. Essayons ensemble de faire un point en cette période où vous êtes à la\n",
    "maison et que vos parents ne vous donne plus d’argent puisque vous avez tout à la maison."
   ]
  },
  {
   "cell_type": "markdown",
   "metadata": {},
   "source": [
    "Différents types variables contenant  de valeurs constantes, numériques, textes et même des tableaux (créer une boîte de la bonne taille - affection)\n",
    "\n",
    "elem = montant journalier que l'élève reçoit des parents;\n",
    "\n",
    "per = nombre de jour avancé;\n",
    "\n",
    "tepar = part du revenu consacrée à l'épargne;\n",
    "\n",
    "epargnetotal = épargne accumulée jusqu'à ce jour."
   ]
  },
  {
   "cell_type": "markdown",
   "metadata": {},
   "source": [
    "# 1- Calculez et afficher le total des ressources dont a disposé l'élèves avant la décision de fermeture des écoles, le lundi 16 mars 2020😎;"
   ]
  },
  {
   "cell_type": "code",
   "execution_count": 3,
   "metadata": {},
   "outputs": [
    {
     "name": "stdout",
     "output_type": "stream",
     "text": [
      "1000\n"
     ]
    }
   ],
   "source": [
    "# Différentes Manières d'afficher du message text et des variables\n",
    "# D'après l'énoncé definissons la constante elem, \n",
    "# montant journalier que l'élève reçoit des parents\n",
    "elem = 1000\n",
    "print(elem)"
   ]
  },
  {
   "cell_type": "code",
   "execution_count": 4,
   "metadata": {},
   "outputs": [
    {
     "data": {
      "text/plain": [
       "1000"
      ]
     },
     "execution_count": 4,
     "metadata": {},
     "output_type": "execute_result"
    }
   ],
   "source": [
    "elem"
   ]
  },
  {
   "cell_type": "code",
   "execution_count": 5,
   "metadata": {},
   "outputs": [
    {
     "name": "stdout",
     "output_type": "stream",
     "text": [
      "Le Nombre de jours avancé est:  75 Jours\n"
     ]
    }
   ],
   "source": [
    "#D'après l'énoncé definissons la per, \n",
    "#le nombre de jour avancé; Janv - Fev - 15 Mars durant 2sem\n",
    "per = 31 + 29 + 15\n",
    "print('Le Nombre de jours avancé est: ' ,per,'Jours')"
   ]
  },
  {
   "cell_type": "code",
   "execution_count": 6,
   "metadata": {},
   "outputs": [
    {
     "name": "stdout",
     "output_type": "stream",
     "text": [
      "le total des ressources dont a disposé l'élèves avant la décision de fermeture des écoles, le lundi 16 mars 2020 de 75000 FCFA\n"
     ]
    }
   ],
   "source": [
    "# Avantage avec les variables: Multitude \n",
    "#d’opération entre les variables d’un même type.\n",
    "# ressource total = nbr de jour * l'argent par jour\n",
    "ressource =  elem * per\n",
    "print ('le total des ressources dont a disposé l\\'élèves avant la décision de fermeture des écoles, le lundi 16 mars 2020 de %s FCFA'%(ressource))"
   ]
  },
  {
   "cell_type": "markdown",
   "metadata": {},
   "source": [
    " ## 2- 😎De cette ressource totale, combien a-t-il déjà épargné ? (Utiliser deux méthodes de calcul et afficher l'épargne)🐱‍👤"
   ]
  },
  {
   "cell_type": "code",
   "execution_count": 7,
   "metadata": {},
   "outputs": [
    {
     "name": "stdout",
     "output_type": "stream",
     "text": [
      "De cette ressource totale, il a épargné est:  18750.0 Fr FCA\n"
     ]
    }
   ],
   "source": [
    "# 1ère Méthode\n",
    "# tepar, part du revenu consacrée à l'épargne\n",
    "# epargnetotal = épargne accumulée jusqu'à ce jour\n",
    "# per = nombre de jour avancé;\n",
    "tepar = 0.25 * elem\n",
    "epargnetotal = per * tepar\n",
    "print('De cette ressource totale, il a épargné est: ' ,epargnetotal,'Fr FCA')"
   ]
  },
  {
   "cell_type": "code",
   "execution_count": 8,
   "metadata": {},
   "outputs": [
    {
     "name": "stdout",
     "output_type": "stream",
     "text": [
      "De cette ressource totale, il a épargné est:  18750.0 Fr FCA\n"
     ]
    }
   ],
   "source": [
    "# 2ème Méthode\n",
    "# epargnetotal = épargne accumulée jusqu'à ce jour\n",
    "# ressource = tout ce que l'élève a reçu\n",
    "epargnetotal = 0.25 * ressource\n",
    "print('De cette ressource totale, il a épargné est: ' ,epargnetotal,'Fr FCA')"
   ]
  },
  {
   "cell_type": "markdown",
   "metadata": {},
   "source": [
    "## 3- Cet élève a décidé de reverser intégralement ses ressources non utilisées à partir du 17 mars 2020 à ses épargnes. Quel est le nouveau montant de ses épargnes, appelez la variable Nepargnetot. Affichez sa valeur👏👏"
   ]
  },
  {
   "cell_type": "code",
   "execution_count": 9,
   "metadata": {},
   "outputs": [
    {
     "name": "stdout",
     "output_type": "stream",
     "text": [
      "Le nouveau montant de ses épargnes est:  32000.0 Fr FCA\n"
     ]
    }
   ],
   "source": [
    "# Nepargnetot = Epargne total meme après le 17 mars jusqu'a la fin du mois\n",
    "Nepargnetot = 0.25*elem + elem*13 + epargnetotal\n",
    "print('Le nouveau montant de ses épargnes est: ' ,Nepargnetot,'Fr FCA')"
   ]
  },
  {
   "cell_type": "markdown",
   "metadata": {},
   "source": [
    "# lien tp Webinar\n",
    "\n",
    "https://github.com/bkablam10/data-wrangling-course/blob/master/TP%20Webinar%20Progammation%20python/Exercice_TP_programmation.ipynb"
   ]
  }
 ],
 "metadata": {
  "kernelspec": {
   "display_name": "Python 3",
   "language": "python",
   "name": "python3"
  },
  "language_info": {
   "codemirror_mode": {
    "name": "ipython",
    "version": 3
   },
   "file_extension": ".py",
   "mimetype": "text/x-python",
   "name": "python",
   "nbconvert_exporter": "python",
   "pygments_lexer": "ipython3",
   "version": "3.7.0"
  }
 },
 "nbformat": 4,
 "nbformat_minor": 2
}
